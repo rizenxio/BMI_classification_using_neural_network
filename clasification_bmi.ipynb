{
 "cells": [
  {
   "cell_type": "code",
   "execution_count": 14,
   "id": "05100e41-da0b-4f8d-b2df-f4766b1a9bb7",
   "metadata": {},
   "outputs": [],
   "source": [
    "import pandas as pd"
   ]
  },
  {
   "cell_type": "code",
   "execution_count": 15,
   "id": "d6903502-e5e9-4e09-b856-b16f150d3407",
   "metadata": {},
   "outputs": [],
   "source": [
    "data=pd.read_csv('bmi_data.csv')"
   ]
  },
  {
   "cell_type": "code",
   "execution_count": 16,
   "id": "3b07e6d5-7896-4a5b-8953-bdb5f710a26d",
   "metadata": {},
   "outputs": [
    {
     "data": {
      "text/html": [
       "<div>\n",
       "<style scoped>\n",
       "    .dataframe tbody tr th:only-of-type {\n",
       "        vertical-align: middle;\n",
       "    }\n",
       "\n",
       "    .dataframe tbody tr th {\n",
       "        vertical-align: top;\n",
       "    }\n",
       "\n",
       "    .dataframe thead th {\n",
       "        text-align: right;\n",
       "    }\n",
       "</style>\n",
       "<table border=\"1\" class=\"dataframe\">\n",
       "  <thead>\n",
       "    <tr style=\"text-align: right;\">\n",
       "      <th></th>\n",
       "      <th>Sex</th>\n",
       "      <th>Age</th>\n",
       "      <th>Height(Inches)</th>\n",
       "      <th>Weight(Pounds)</th>\n",
       "      <th>BMI</th>\n",
       "    </tr>\n",
       "  </thead>\n",
       "  <tbody>\n",
       "    <tr>\n",
       "      <th>0</th>\n",
       "      <td>Female</td>\n",
       "      <td>21</td>\n",
       "      <td>65.78331</td>\n",
       "      <td>112.9925</td>\n",
       "      <td>18.357646</td>\n",
       "    </tr>\n",
       "    <tr>\n",
       "      <th>1</th>\n",
       "      <td>Female</td>\n",
       "      <td>35</td>\n",
       "      <td>71.51521</td>\n",
       "      <td>136.4873</td>\n",
       "      <td>18.762652</td>\n",
       "    </tr>\n",
       "    <tr>\n",
       "      <th>2</th>\n",
       "      <td>Female</td>\n",
       "      <td>27</td>\n",
       "      <td>69.39874</td>\n",
       "      <td>153.0269</td>\n",
       "      <td>22.338985</td>\n",
       "    </tr>\n",
       "    <tr>\n",
       "      <th>3</th>\n",
       "      <td>Male</td>\n",
       "      <td>24</td>\n",
       "      <td>68.21660</td>\n",
       "      <td>142.3354</td>\n",
       "      <td>21.504612</td>\n",
       "    </tr>\n",
       "    <tr>\n",
       "      <th>4</th>\n",
       "      <td>Female</td>\n",
       "      <td>18</td>\n",
       "      <td>67.78781</td>\n",
       "      <td>144.2971</td>\n",
       "      <td>22.077669</td>\n",
       "    </tr>\n",
       "  </tbody>\n",
       "</table>\n",
       "</div>"
      ],
      "text/plain": [
       "      Sex  Age  Height(Inches)  Weight(Pounds)        BMI\n",
       "0  Female   21        65.78331        112.9925  18.357646\n",
       "1  Female   35        71.51521        136.4873  18.762652\n",
       "2  Female   27        69.39874        153.0269  22.338985\n",
       "3    Male   24        68.21660        142.3354  21.504612\n",
       "4  Female   18        67.78781        144.2971  22.077669"
      ]
     },
     "execution_count": 16,
     "metadata": {},
     "output_type": "execute_result"
    }
   ],
   "source": [
    "data.head()"
   ]
  },
  {
   "cell_type": "code",
   "execution_count": 17,
   "id": "660a5513-76a6-40b5-b059-5290fc8aa85f",
   "metadata": {},
   "outputs": [
    {
     "data": {
      "text/plain": [
       "Sex                0\n",
       "Age                0\n",
       "Height(Inches)    19\n",
       "Weight(Pounds)    16\n",
       "BMI               50\n",
       "dtype: int64"
      ]
     },
     "execution_count": 17,
     "metadata": {},
     "output_type": "execute_result"
    }
   ],
   "source": [
    "data.isnull().sum()"
   ]
  },
  {
   "cell_type": "code",
   "execution_count": 18,
   "id": "4ce92740-e489-40b3-9476-ecc4823ee0d2",
   "metadata": {},
   "outputs": [],
   "source": [
    "data = data[(data != 0).all(axis=1)]"
   ]
  },
  {
   "cell_type": "code",
   "execution_count": 19,
   "id": "ac59578e-1824-4f3b-9f80-f793b2ff915a",
   "metadata": {},
   "outputs": [
    {
     "name": "stdout",
     "output_type": "stream",
     "text": [
      "\n",
      "DataFrame setelah penghapusan:\n",
      "          Sex  Age  Height(Inches)  Weight(Pounds)        BMI\n",
      "0      Female   21        65.78331        112.9925  18.357646\n",
      "1      Female   35        71.51521        136.4873  18.762652\n",
      "2      Female   27        69.39874        153.0269  22.338985\n",
      "3        Male   24        68.21660        142.3354  21.504612\n",
      "4      Female   18        67.78781        144.2971  22.077669\n",
      "...       ...  ...             ...             ...        ...\n",
      "24995    Male   35        69.50215        118.0312  17.179051\n",
      "24996    Male   26        64.54826        120.1932  20.281947\n",
      "24997  Female   23        64.69855        118.2655  19.864050\n",
      "24998    Male   20        67.52918        132.2682  20.392540\n",
      "24999  Female   34        68.87761        124.8742  18.506121\n",
      "\n",
      "[25000 rows x 5 columns]\n"
     ]
    }
   ],
   "source": [
    "condition = (data[['Height(Inches)','Weight(Pounds)']] == 0).any(axis=1)\n",
    "\n",
    "# Menghapus baris yang memenuhi kondisi\n",
    "data = data.drop(data[condition].index)\n",
    "print(\"\\nDataFrame setelah penghapusan:\")\n",
    "print(data)"
   ]
  },
  {
   "cell_type": "code",
   "execution_count": 20,
   "id": "0454a733-d1e9-4164-82d0-8b15fc5d1fbf",
   "metadata": {},
   "outputs": [],
   "source": [
    "data['Sex'] = data['Sex'].map({'Male': 1, 'Female': 0})"
   ]
  },
  {
   "cell_type": "code",
   "execution_count": 21,
   "id": "87d106b8-2a33-41d4-9c16-55cb77ac23a0",
   "metadata": {},
   "outputs": [
    {
     "data": {
      "text/html": [
       "<div>\n",
       "<style scoped>\n",
       "    .dataframe tbody tr th:only-of-type {\n",
       "        vertical-align: middle;\n",
       "    }\n",
       "\n",
       "    .dataframe tbody tr th {\n",
       "        vertical-align: top;\n",
       "    }\n",
       "\n",
       "    .dataframe thead th {\n",
       "        text-align: right;\n",
       "    }\n",
       "</style>\n",
       "<table border=\"1\" class=\"dataframe\">\n",
       "  <thead>\n",
       "    <tr style=\"text-align: right;\">\n",
       "      <th></th>\n",
       "      <th>Sex</th>\n",
       "      <th>Age</th>\n",
       "      <th>Height(Inches)</th>\n",
       "      <th>Weight(Pounds)</th>\n",
       "      <th>BMI</th>\n",
       "    </tr>\n",
       "  </thead>\n",
       "  <tbody>\n",
       "    <tr>\n",
       "      <th>0</th>\n",
       "      <td>0</td>\n",
       "      <td>21</td>\n",
       "      <td>65.78331</td>\n",
       "      <td>112.9925</td>\n",
       "      <td>18.357646</td>\n",
       "    </tr>\n",
       "    <tr>\n",
       "      <th>1</th>\n",
       "      <td>0</td>\n",
       "      <td>35</td>\n",
       "      <td>71.51521</td>\n",
       "      <td>136.4873</td>\n",
       "      <td>18.762652</td>\n",
       "    </tr>\n",
       "    <tr>\n",
       "      <th>2</th>\n",
       "      <td>0</td>\n",
       "      <td>27</td>\n",
       "      <td>69.39874</td>\n",
       "      <td>153.0269</td>\n",
       "      <td>22.338985</td>\n",
       "    </tr>\n",
       "    <tr>\n",
       "      <th>3</th>\n",
       "      <td>1</td>\n",
       "      <td>24</td>\n",
       "      <td>68.21660</td>\n",
       "      <td>142.3354</td>\n",
       "      <td>21.504612</td>\n",
       "    </tr>\n",
       "    <tr>\n",
       "      <th>4</th>\n",
       "      <td>0</td>\n",
       "      <td>18</td>\n",
       "      <td>67.78781</td>\n",
       "      <td>144.2971</td>\n",
       "      <td>22.077669</td>\n",
       "    </tr>\n",
       "  </tbody>\n",
       "</table>\n",
       "</div>"
      ],
      "text/plain": [
       "   Sex  Age  Height(Inches)  Weight(Pounds)        BMI\n",
       "0    0   21        65.78331        112.9925  18.357646\n",
       "1    0   35        71.51521        136.4873  18.762652\n",
       "2    0   27        69.39874        153.0269  22.338985\n",
       "3    1   24        68.21660        142.3354  21.504612\n",
       "4    0   18        67.78781        144.2971  22.077669"
      ]
     },
     "execution_count": 21,
     "metadata": {},
     "output_type": "execute_result"
    }
   ],
   "source": [
    "data.head()"
   ]
  },
  {
   "cell_type": "code",
   "execution_count": 22,
   "id": "9e2a8ecc-ff82-40eb-953f-b4b1a99de1c9",
   "metadata": {},
   "outputs": [],
   "source": [
    "#mengubah data height dan weight untukbmr\n",
    "data['Height(CM)'] = data['Height(Inches)'] * 2.54\n",
    "data['Weight(KG)'] = data['Weight(Pounds)'] * 0.453592"
   ]
  },
  {
   "cell_type": "code",
   "execution_count": 23,
   "id": "89194c9f-3d3a-4af7-b031-3d74f78f4888",
   "metadata": {},
   "outputs": [
    {
     "data": {
      "text/html": [
       "<div>\n",
       "<style scoped>\n",
       "    .dataframe tbody tr th:only-of-type {\n",
       "        vertical-align: middle;\n",
       "    }\n",
       "\n",
       "    .dataframe tbody tr th {\n",
       "        vertical-align: top;\n",
       "    }\n",
       "\n",
       "    .dataframe thead th {\n",
       "        text-align: right;\n",
       "    }\n",
       "</style>\n",
       "<table border=\"1\" class=\"dataframe\">\n",
       "  <thead>\n",
       "    <tr style=\"text-align: right;\">\n",
       "      <th></th>\n",
       "      <th>Sex</th>\n",
       "      <th>Age</th>\n",
       "      <th>Height(Inches)</th>\n",
       "      <th>Weight(Pounds)</th>\n",
       "      <th>BMI</th>\n",
       "      <th>Height(CM)</th>\n",
       "      <th>Weight(KG)</th>\n",
       "    </tr>\n",
       "  </thead>\n",
       "  <tbody>\n",
       "    <tr>\n",
       "      <th>0</th>\n",
       "      <td>0</td>\n",
       "      <td>21</td>\n",
       "      <td>65.78331</td>\n",
       "      <td>112.9925</td>\n",
       "      <td>18.357646</td>\n",
       "      <td>167.089607</td>\n",
       "      <td>51.252494</td>\n",
       "    </tr>\n",
       "    <tr>\n",
       "      <th>1</th>\n",
       "      <td>0</td>\n",
       "      <td>35</td>\n",
       "      <td>71.51521</td>\n",
       "      <td>136.4873</td>\n",
       "      <td>18.762652</td>\n",
       "      <td>181.648633</td>\n",
       "      <td>61.909547</td>\n",
       "    </tr>\n",
       "    <tr>\n",
       "      <th>2</th>\n",
       "      <td>0</td>\n",
       "      <td>27</td>\n",
       "      <td>69.39874</td>\n",
       "      <td>153.0269</td>\n",
       "      <td>22.338985</td>\n",
       "      <td>176.272800</td>\n",
       "      <td>69.411778</td>\n",
       "    </tr>\n",
       "    <tr>\n",
       "      <th>3</th>\n",
       "      <td>1</td>\n",
       "      <td>24</td>\n",
       "      <td>68.21660</td>\n",
       "      <td>142.3354</td>\n",
       "      <td>21.504612</td>\n",
       "      <td>173.270164</td>\n",
       "      <td>64.562199</td>\n",
       "    </tr>\n",
       "    <tr>\n",
       "      <th>4</th>\n",
       "      <td>0</td>\n",
       "      <td>18</td>\n",
       "      <td>67.78781</td>\n",
       "      <td>144.2971</td>\n",
       "      <td>22.077669</td>\n",
       "      <td>172.181037</td>\n",
       "      <td>65.452010</td>\n",
       "    </tr>\n",
       "  </tbody>\n",
       "</table>\n",
       "</div>"
      ],
      "text/plain": [
       "   Sex  Age  Height(Inches)  Weight(Pounds)        BMI  Height(CM)  Weight(KG)\n",
       "0    0   21        65.78331        112.9925  18.357646  167.089607   51.252494\n",
       "1    0   35        71.51521        136.4873  18.762652  181.648633   61.909547\n",
       "2    0   27        69.39874        153.0269  22.338985  176.272800   69.411778\n",
       "3    1   24        68.21660        142.3354  21.504612  173.270164   64.562199\n",
       "4    0   18        67.78781        144.2971  22.077669  172.181037   65.452010"
      ]
     },
     "execution_count": 23,
     "metadata": {},
     "output_type": "execute_result"
    }
   ],
   "source": [
    "data.head()"
   ]
  },
  {
   "cell_type": "code",
   "execution_count": 24,
   "id": "df8e7609",
   "metadata": {},
   "outputs": [],
   "source": [
    "columns_to_drop = ['BMI', 'Height(Inches)', 'Weight(Pounds)']\n",
    "data = data.drop(columns=columns_to_drop)"
   ]
  },
  {
   "cell_type": "code",
   "execution_count": 25,
   "id": "2f55ec19",
   "metadata": {},
   "outputs": [
    {
     "data": {
      "text/html": [
       "<div>\n",
       "<style scoped>\n",
       "    .dataframe tbody tr th:only-of-type {\n",
       "        vertical-align: middle;\n",
       "    }\n",
       "\n",
       "    .dataframe tbody tr th {\n",
       "        vertical-align: top;\n",
       "    }\n",
       "\n",
       "    .dataframe thead th {\n",
       "        text-align: right;\n",
       "    }\n",
       "</style>\n",
       "<table border=\"1\" class=\"dataframe\">\n",
       "  <thead>\n",
       "    <tr style=\"text-align: right;\">\n",
       "      <th></th>\n",
       "      <th>Sex</th>\n",
       "      <th>Age</th>\n",
       "      <th>Height(CM)</th>\n",
       "      <th>Weight(KG)</th>\n",
       "    </tr>\n",
       "  </thead>\n",
       "  <tbody>\n",
       "    <tr>\n",
       "      <th>0</th>\n",
       "      <td>0</td>\n",
       "      <td>21</td>\n",
       "      <td>167.089607</td>\n",
       "      <td>51.252494</td>\n",
       "    </tr>\n",
       "    <tr>\n",
       "      <th>1</th>\n",
       "      <td>0</td>\n",
       "      <td>35</td>\n",
       "      <td>181.648633</td>\n",
       "      <td>61.909547</td>\n",
       "    </tr>\n",
       "    <tr>\n",
       "      <th>2</th>\n",
       "      <td>0</td>\n",
       "      <td>27</td>\n",
       "      <td>176.272800</td>\n",
       "      <td>69.411778</td>\n",
       "    </tr>\n",
       "    <tr>\n",
       "      <th>3</th>\n",
       "      <td>1</td>\n",
       "      <td>24</td>\n",
       "      <td>173.270164</td>\n",
       "      <td>64.562199</td>\n",
       "    </tr>\n",
       "    <tr>\n",
       "      <th>4</th>\n",
       "      <td>0</td>\n",
       "      <td>18</td>\n",
       "      <td>172.181037</td>\n",
       "      <td>65.452010</td>\n",
       "    </tr>\n",
       "  </tbody>\n",
       "</table>\n",
       "</div>"
      ],
      "text/plain": [
       "   Sex  Age  Height(CM)  Weight(KG)\n",
       "0    0   21  167.089607   51.252494\n",
       "1    0   35  181.648633   61.909547\n",
       "2    0   27  176.272800   69.411778\n",
       "3    1   24  173.270164   64.562199\n",
       "4    0   18  172.181037   65.452010"
      ]
     },
     "execution_count": 25,
     "metadata": {},
     "output_type": "execute_result"
    }
   ],
   "source": [
    "data.head()"
   ]
  },
  {
   "cell_type": "code",
   "execution_count": 32,
   "id": "52ed978e",
   "metadata": {},
   "outputs": [],
   "source": [
    "columns_to_check = ['Height(CM)', 'Weight(KG)']\n",
    "data = data.dropna(subset=columns_to_check, how='any')"
   ]
  },
  {
   "cell_type": "code",
   "execution_count": 33,
   "id": "8e55fb85",
   "metadata": {},
   "outputs": [
    {
     "name": "stdout",
     "output_type": "stream",
     "text": [
      "<class 'pandas.core.frame.DataFrame'>\n",
      "Index: 24967 entries, 0 to 24999\n",
      "Data columns (total 5 columns):\n",
      " #   Column      Non-Null Count  Dtype  \n",
      "---  ------      --------------  -----  \n",
      " 0   Sex         24967 non-null  int64  \n",
      " 1   Age         24967 non-null  int64  \n",
      " 2   Height(CM)  24967 non-null  float64\n",
      " 3   Weight(KG)  24967 non-null  float64\n",
      " 4   BMR         24967 non-null  float64\n",
      "dtypes: float64(3), int64(2)\n",
      "memory usage: 1.1 MB\n"
     ]
    }
   ],
   "source": [
    "data.info()"
   ]
  },
  {
   "cell_type": "code",
   "execution_count": 34,
   "id": "765e299b",
   "metadata": {},
   "outputs": [],
   "source": [
    "# fungsi untuk menghitung bmr\n",
    "def calculate_bmr(row):\n",
    "    if row['Sex'] == 1:\n",
    "        return 66 + (13.7 * row['Weight(KG)']) + (5 * row['Height(CM)']) - (6.8 * row['Age'])\n",
    "    elif row['Sex'] == 0:\n",
    "        return 665 + (9.6 * row['Weight(KG)']) + (1.8 * row['Height(CM)']) - (4.7 * row['Age'])\n",
    "    else:\n",
    "        return None "
   ]
  },
  {
   "cell_type": "code",
   "execution_count": 35,
   "id": "7966e373",
   "metadata": {},
   "outputs": [],
   "source": [
    "data['BMR'] = data.apply(calculate_bmr, axis=1)"
   ]
  },
  {
   "cell_type": "code",
   "execution_count": 36,
   "id": "39157363",
   "metadata": {},
   "outputs": [
    {
     "data": {
      "text/html": [
       "<div>\n",
       "<style scoped>\n",
       "    .dataframe tbody tr th:only-of-type {\n",
       "        vertical-align: middle;\n",
       "    }\n",
       "\n",
       "    .dataframe tbody tr th {\n",
       "        vertical-align: top;\n",
       "    }\n",
       "\n",
       "    .dataframe thead th {\n",
       "        text-align: right;\n",
       "    }\n",
       "</style>\n",
       "<table border=\"1\" class=\"dataframe\">\n",
       "  <thead>\n",
       "    <tr style=\"text-align: right;\">\n",
       "      <th></th>\n",
       "      <th>Sex</th>\n",
       "      <th>Age</th>\n",
       "      <th>Height(CM)</th>\n",
       "      <th>Weight(KG)</th>\n",
       "      <th>BMR</th>\n",
       "    </tr>\n",
       "  </thead>\n",
       "  <tbody>\n",
       "    <tr>\n",
       "      <th>0</th>\n",
       "      <td>0</td>\n",
       "      <td>21</td>\n",
       "      <td>167.089607</td>\n",
       "      <td>51.252494</td>\n",
       "      <td>1359.085236</td>\n",
       "    </tr>\n",
       "    <tr>\n",
       "      <th>1</th>\n",
       "      <td>0</td>\n",
       "      <td>35</td>\n",
       "      <td>181.648633</td>\n",
       "      <td>61.909547</td>\n",
       "      <td>1421.799195</td>\n",
       "    </tr>\n",
       "    <tr>\n",
       "      <th>2</th>\n",
       "      <td>0</td>\n",
       "      <td>27</td>\n",
       "      <td>176.272800</td>\n",
       "      <td>69.411778</td>\n",
       "      <td>1521.744104</td>\n",
       "    </tr>\n",
       "    <tr>\n",
       "      <th>3</th>\n",
       "      <td>1</td>\n",
       "      <td>24</td>\n",
       "      <td>173.270164</td>\n",
       "      <td>64.562199</td>\n",
       "      <td>1653.652943</td>\n",
       "    </tr>\n",
       "    <tr>\n",
       "      <th>4</th>\n",
       "      <td>0</td>\n",
       "      <td>18</td>\n",
       "      <td>172.181037</td>\n",
       "      <td>65.452010</td>\n",
       "      <td>1518.665165</td>\n",
       "    </tr>\n",
       "  </tbody>\n",
       "</table>\n",
       "</div>"
      ],
      "text/plain": [
       "   Sex  Age  Height(CM)  Weight(KG)          BMR\n",
       "0    0   21  167.089607   51.252494  1359.085236\n",
       "1    0   35  181.648633   61.909547  1421.799195\n",
       "2    0   27  176.272800   69.411778  1521.744104\n",
       "3    1   24  173.270164   64.562199  1653.652943\n",
       "4    0   18  172.181037   65.452010  1518.665165"
      ]
     },
     "execution_count": 36,
     "metadata": {},
     "output_type": "execute_result"
    }
   ],
   "source": [
    "data.head()"
   ]
  },
  {
   "cell_type": "code",
   "execution_count": 37,
   "id": "7bd59c83",
   "metadata": {},
   "outputs": [
    {
     "data": {
      "text/html": [
       "<div>\n",
       "<style scoped>\n",
       "    .dataframe tbody tr th:only-of-type {\n",
       "        vertical-align: middle;\n",
       "    }\n",
       "\n",
       "    .dataframe tbody tr th {\n",
       "        vertical-align: top;\n",
       "    }\n",
       "\n",
       "    .dataframe thead th {\n",
       "        text-align: right;\n",
       "    }\n",
       "</style>\n",
       "<table border=\"1\" class=\"dataframe\">\n",
       "  <thead>\n",
       "    <tr style=\"text-align: right;\">\n",
       "      <th></th>\n",
       "      <th>Sex</th>\n",
       "      <th>Age</th>\n",
       "      <th>Height(CM)</th>\n",
       "      <th>Weight(KG)</th>\n",
       "      <th>BMR</th>\n",
       "    </tr>\n",
       "  </thead>\n",
       "  <tbody>\n",
       "    <tr>\n",
       "      <th>count</th>\n",
       "      <td>24967.000000</td>\n",
       "      <td>24967.000000</td>\n",
       "      <td>24967.000000</td>\n",
       "      <td>24967.000000</td>\n",
       "      <td>24967.000000</td>\n",
       "    </tr>\n",
       "    <tr>\n",
       "      <th>mean</th>\n",
       "      <td>0.503585</td>\n",
       "      <td>26.498738</td>\n",
       "      <td>172.701406</td>\n",
       "      <td>57.641677</td>\n",
       "      <td>1472.471234</td>\n",
       "    </tr>\n",
       "    <tr>\n",
       "      <th>std</th>\n",
       "      <td>0.499997</td>\n",
       "      <td>5.190868</td>\n",
       "      <td>4.830149</td>\n",
       "      <td>5.289591</td>\n",
       "      <td>104.668750</td>\n",
       "    </tr>\n",
       "    <tr>\n",
       "      <th>min</th>\n",
       "      <td>0.000000</td>\n",
       "      <td>18.000000</td>\n",
       "      <td>153.107034</td>\n",
       "      <td>35.386871</td>\n",
       "      <td>1119.665286</td>\n",
       "    </tr>\n",
       "    <tr>\n",
       "      <th>25%</th>\n",
       "      <td>0.000000</td>\n",
       "      <td>22.000000</td>\n",
       "      <td>169.429849</td>\n",
       "      <td>54.117268</td>\n",
       "      <td>1394.997285</td>\n",
       "    </tr>\n",
       "    <tr>\n",
       "      <th>50%</th>\n",
       "      <td>1.000000</td>\n",
       "      <td>27.000000</td>\n",
       "      <td>172.708519</td>\n",
       "      <td>57.675765</td>\n",
       "      <td>1457.148242</td>\n",
       "    </tr>\n",
       "    <tr>\n",
       "      <th>75%</th>\n",
       "      <td>1.000000</td>\n",
       "      <td>31.000000</td>\n",
       "      <td>175.950309</td>\n",
       "      <td>61.186476</td>\n",
       "      <td>1543.496065</td>\n",
       "    </tr>\n",
       "    <tr>\n",
       "      <th>max</th>\n",
       "      <td>1.000000</td>\n",
       "      <td>35.000000</td>\n",
       "      <td>190.888112</td>\n",
       "      <td>77.529759</td>\n",
       "      <td>1859.400783</td>\n",
       "    </tr>\n",
       "  </tbody>\n",
       "</table>\n",
       "</div>"
      ],
      "text/plain": [
       "                Sex           Age    Height(CM)    Weight(KG)           BMR\n",
       "count  24967.000000  24967.000000  24967.000000  24967.000000  24967.000000\n",
       "mean       0.503585     26.498738    172.701406     57.641677   1472.471234\n",
       "std        0.499997      5.190868      4.830149      5.289591    104.668750\n",
       "min        0.000000     18.000000    153.107034     35.386871   1119.665286\n",
       "25%        0.000000     22.000000    169.429849     54.117268   1394.997285\n",
       "50%        1.000000     27.000000    172.708519     57.675765   1457.148242\n",
       "75%        1.000000     31.000000    175.950309     61.186476   1543.496065\n",
       "max        1.000000     35.000000    190.888112     77.529759   1859.400783"
      ]
     },
     "execution_count": 37,
     "metadata": {},
     "output_type": "execute_result"
    }
   ],
   "source": [
    "data.describe()"
   ]
  },
  {
   "cell_type": "code",
   "execution_count": 38,
   "id": "f0cdd952",
   "metadata": {},
   "outputs": [
    {
     "name": "stdout",
     "output_type": "stream",
     "text": [
      "<class 'pandas.core.frame.DataFrame'>\n",
      "Index: 24967 entries, 0 to 24999\n",
      "Data columns (total 5 columns):\n",
      " #   Column      Non-Null Count  Dtype  \n",
      "---  ------      --------------  -----  \n",
      " 0   Sex         24967 non-null  int64  \n",
      " 1   Age         24967 non-null  int64  \n",
      " 2   Height(CM)  24967 non-null  float64\n",
      " 3   Weight(KG)  24967 non-null  float64\n",
      " 4   BMR         24967 non-null  float64\n",
      "dtypes: float64(3), int64(2)\n",
      "memory usage: 1.1 MB\n"
     ]
    }
   ],
   "source": [
    "data.info()"
   ]
  },
  {
   "cell_type": "code",
   "execution_count": 40,
   "id": "551dc922",
   "metadata": {},
   "outputs": [],
   "source": [
    "bins = [data['BMR'].min(), data['BMR'].quantile(0.25), data['BMR'].quantile(0.5), data['BMR'].quantile(0.75), data['BMR'].max()]\n",
    "labels = ['Sangat Rendah', 'Rendah', 'Tinggi', 'Sangat Tinggi']\n",
    "\n",
    "# Menambahkan kolom baru dengan kategori berdasarkan nilai BMR\n",
    "data['BMR_Category'] = pd.cut(data['BMR'], bins=bins, labels=labels)"
   ]
  },
  {
   "cell_type": "code",
   "execution_count": 59,
   "id": "f93725cb",
   "metadata": {},
   "outputs": [],
   "source": [
    "from sklearn.preprocessing import LabelEncoder\n",
    "\n",
    "# Inisialisasi LabelEncoder\n",
    "label_encoder = LabelEncoder()\n",
    "\n",
    "# Melakukan encoding pada kolom BMR_Category\n",
    "data['BMR_Category_Encoded'] = label_encoder.fit_transform(data['BMR_Category'])"
   ]
  },
  {
   "cell_type": "code",
   "execution_count": 60,
   "id": "560110a7",
   "metadata": {},
   "outputs": [
    {
     "name": "stdout",
     "output_type": "stream",
     "text": [
      "<class 'pandas.core.frame.DataFrame'>\n",
      "Index: 24967 entries, 0 to 24999\n",
      "Data columns (total 7 columns):\n",
      " #   Column                Non-Null Count  Dtype   \n",
      "---  ------                --------------  -----   \n",
      " 0   Sex                   24967 non-null  int64   \n",
      " 1   Age                   24967 non-null  int64   \n",
      " 2   Height(CM)            24967 non-null  float64 \n",
      " 3   Weight(KG)            24967 non-null  float64 \n",
      " 4   BMR                   24967 non-null  float64 \n",
      " 5   BMR_Category          24966 non-null  category\n",
      " 6   BMR_Category_Encoded  24967 non-null  int32   \n",
      "dtypes: category(1), float64(3), int32(1), int64(2)\n",
      "memory usage: 1.3 MB\n"
     ]
    }
   ],
   "source": [
    "data.info()"
   ]
  },
  {
   "cell_type": "code",
   "execution_count": 61,
   "id": "da603fe3",
   "metadata": {},
   "outputs": [
    {
     "data": {
      "text/html": [
       "<div>\n",
       "<style scoped>\n",
       "    .dataframe tbody tr th:only-of-type {\n",
       "        vertical-align: middle;\n",
       "    }\n",
       "\n",
       "    .dataframe tbody tr th {\n",
       "        vertical-align: top;\n",
       "    }\n",
       "\n",
       "    .dataframe thead th {\n",
       "        text-align: right;\n",
       "    }\n",
       "</style>\n",
       "<table border=\"1\" class=\"dataframe\">\n",
       "  <thead>\n",
       "    <tr style=\"text-align: right;\">\n",
       "      <th></th>\n",
       "      <th>Sex</th>\n",
       "      <th>Age</th>\n",
       "      <th>Height(CM)</th>\n",
       "      <th>Weight(KG)</th>\n",
       "      <th>BMR</th>\n",
       "      <th>BMR_Category</th>\n",
       "      <th>BMR_Category_Encoded</th>\n",
       "    </tr>\n",
       "  </thead>\n",
       "  <tbody>\n",
       "    <tr>\n",
       "      <th>0</th>\n",
       "      <td>0</td>\n",
       "      <td>21</td>\n",
       "      <td>167.089607</td>\n",
       "      <td>51.252494</td>\n",
       "      <td>1359.085236</td>\n",
       "      <td>Sangat Rendah</td>\n",
       "      <td>1</td>\n",
       "    </tr>\n",
       "    <tr>\n",
       "      <th>1</th>\n",
       "      <td>0</td>\n",
       "      <td>35</td>\n",
       "      <td>181.648633</td>\n",
       "      <td>61.909547</td>\n",
       "      <td>1421.799195</td>\n",
       "      <td>Rendah</td>\n",
       "      <td>0</td>\n",
       "    </tr>\n",
       "    <tr>\n",
       "      <th>2</th>\n",
       "      <td>0</td>\n",
       "      <td>27</td>\n",
       "      <td>176.272800</td>\n",
       "      <td>69.411778</td>\n",
       "      <td>1521.744104</td>\n",
       "      <td>Tinggi</td>\n",
       "      <td>3</td>\n",
       "    </tr>\n",
       "    <tr>\n",
       "      <th>3</th>\n",
       "      <td>1</td>\n",
       "      <td>24</td>\n",
       "      <td>173.270164</td>\n",
       "      <td>64.562199</td>\n",
       "      <td>1653.652943</td>\n",
       "      <td>Sangat Tinggi</td>\n",
       "      <td>2</td>\n",
       "    </tr>\n",
       "    <tr>\n",
       "      <th>4</th>\n",
       "      <td>0</td>\n",
       "      <td>18</td>\n",
       "      <td>172.181037</td>\n",
       "      <td>65.452010</td>\n",
       "      <td>1518.665165</td>\n",
       "      <td>Tinggi</td>\n",
       "      <td>3</td>\n",
       "    </tr>\n",
       "  </tbody>\n",
       "</table>\n",
       "</div>"
      ],
      "text/plain": [
       "   Sex  Age  Height(CM)  Weight(KG)          BMR   BMR_Category  \\\n",
       "0    0   21  167.089607   51.252494  1359.085236  Sangat Rendah   \n",
       "1    0   35  181.648633   61.909547  1421.799195         Rendah   \n",
       "2    0   27  176.272800   69.411778  1521.744104         Tinggi   \n",
       "3    1   24  173.270164   64.562199  1653.652943  Sangat Tinggi   \n",
       "4    0   18  172.181037   65.452010  1518.665165         Tinggi   \n",
       "\n",
       "   BMR_Category_Encoded  \n",
       "0                     1  \n",
       "1                     0  \n",
       "2                     3  \n",
       "3                     2  \n",
       "4                     3  "
      ]
     },
     "execution_count": 61,
     "metadata": {},
     "output_type": "execute_result"
    }
   ],
   "source": [
    "data.head()"
   ]
  },
  {
   "cell_type": "code",
   "execution_count": 63,
   "id": "0ca194bb",
   "metadata": {},
   "outputs": [
    {
     "data": {
      "text/plain": [
       "array([1, 0, 3, 2, 4])"
      ]
     },
     "execution_count": 63,
     "metadata": {},
     "output_type": "execute_result"
    }
   ],
   "source": [
    "data.BMR_Category_Encoded.unique()"
   ]
  },
  {
   "cell_type": "markdown",
   "id": "e29e17f6",
   "metadata": {},
   "source": [
    "### membuat model untuk data\n"
   ]
  },
  {
   "cell_type": "code",
   "execution_count": 82,
   "id": "5860912f",
   "metadata": {},
   "outputs": [],
   "source": [
    "import tensorflow as tf\n",
    "import numpy as np\n",
    "import matplotlib.pyplot as plt\n",
    "from sklearn.model_selection import train_test_split"
   ]
  },
  {
   "cell_type": "code",
   "execution_count": 83,
   "id": "f44869c3",
   "metadata": {},
   "outputs": [],
   "source": [
    "X = data.drop(columns=['BMR','BMR_Category_Encoded','BMR_Category'])"
   ]
  },
  {
   "cell_type": "code",
   "execution_count": 84,
   "id": "334394d3",
   "metadata": {},
   "outputs": [
    {
     "name": "stdout",
     "output_type": "stream",
     "text": [
      "0        1\n",
      "1        0\n",
      "2        3\n",
      "3        2\n",
      "4        3\n",
      "        ..\n",
      "24995    0\n",
      "24996    0\n",
      "24997    1\n",
      "24998    2\n",
      "24999    1\n",
      "Name: BMR_Category_Encoded, Length: 24967, dtype: int32\n"
     ]
    }
   ],
   "source": [
    "Y = data['BMR_Category_Encoded']\n",
    "print(Y)"
   ]
  },
  {
   "cell_type": "code",
   "execution_count": 85,
   "id": "b7985eaf",
   "metadata": {},
   "outputs": [],
   "source": [
    "X_train, X_test, Y_train, Y_test = train_test_split(X, Y, test_size=0.2, random_state=42)"
   ]
  },
  {
   "cell_type": "code",
   "execution_count": 86,
   "id": "6f611789",
   "metadata": {},
   "outputs": [],
   "source": [
    "from sklearn.preprocessing import StandardScaler\n",
    "# Normalisasi fitur\n",
    "scaler = StandardScaler()\n",
    "X_train = scaler.fit_transform(X_train)\n",
    "X_test = scaler.transform(X_test)"
   ]
  },
  {
   "cell_type": "code",
   "execution_count": null,
   "id": "c63109ac",
   "metadata": {},
   "outputs": [],
   "source": []
  },
  {
   "cell_type": "code",
   "execution_count": 87,
   "id": "141a2621",
   "metadata": {},
   "outputs": [
    {
     "name": "stdout",
     "output_type": "stream",
     "text": [
      "Epoch 1/20\n",
      "625/625 [==============================] - 6s 5ms/step - loss: 0.3588 - accuracy: 0.9030 - val_loss: 0.1021 - val_accuracy: 0.9780\n",
      "Epoch 2/20\n",
      "625/625 [==============================] - 2s 4ms/step - loss: 0.0788 - accuracy: 0.9830 - val_loss: 0.0688 - val_accuracy: 0.9728\n",
      "Epoch 3/20\n",
      "625/625 [==============================] - 2s 4ms/step - loss: 0.0571 - accuracy: 0.9857 - val_loss: 0.0446 - val_accuracy: 0.9888\n",
      "Epoch 4/20\n",
      "625/625 [==============================] - 2s 4ms/step - loss: 0.0474 - accuracy: 0.9871 - val_loss: 0.0427 - val_accuracy: 0.9876\n",
      "Epoch 5/20\n",
      "625/625 [==============================] - 3s 4ms/step - loss: 0.0414 - accuracy: 0.9874 - val_loss: 0.0315 - val_accuracy: 0.9926\n",
      "Epoch 6/20\n",
      "625/625 [==============================] - 2s 4ms/step - loss: 0.0377 - accuracy: 0.9883 - val_loss: 0.0292 - val_accuracy: 0.9924\n",
      "Epoch 7/20\n",
      "625/625 [==============================] - 2s 4ms/step - loss: 0.0344 - accuracy: 0.9899 - val_loss: 0.0262 - val_accuracy: 0.9934\n",
      "Epoch 8/20\n",
      "625/625 [==============================] - 2s 4ms/step - loss: 0.0332 - accuracy: 0.9896 - val_loss: 0.0259 - val_accuracy: 0.9922\n",
      "Epoch 9/20\n",
      "625/625 [==============================] - 2s 4ms/step - loss: 0.0320 - accuracy: 0.9893 - val_loss: 0.0230 - val_accuracy: 0.9932\n",
      "Epoch 10/20\n",
      "625/625 [==============================] - 2s 4ms/step - loss: 0.0291 - accuracy: 0.9907 - val_loss: 0.0230 - val_accuracy: 0.9936\n",
      "Epoch 11/20\n",
      "625/625 [==============================] - 2s 4ms/step - loss: 0.0280 - accuracy: 0.9910 - val_loss: 0.0220 - val_accuracy: 0.9920\n",
      "Epoch 12/20\n",
      "625/625 [==============================] - 2s 4ms/step - loss: 0.0263 - accuracy: 0.9910 - val_loss: 0.0232 - val_accuracy: 0.9906\n",
      "Epoch 13/20\n",
      "625/625 [==============================] - 2s 4ms/step - loss: 0.0261 - accuracy: 0.9911 - val_loss: 0.0184 - val_accuracy: 0.9938\n",
      "Epoch 14/20\n",
      "625/625 [==============================] - 2s 4ms/step - loss: 0.0256 - accuracy: 0.9909 - val_loss: 0.0254 - val_accuracy: 0.9888\n",
      "Epoch 15/20\n",
      "625/625 [==============================] - 2s 4ms/step - loss: 0.0235 - accuracy: 0.9919 - val_loss: 0.0198 - val_accuracy: 0.9916\n",
      "Epoch 16/20\n",
      "625/625 [==============================] - 2s 4ms/step - loss: 0.0247 - accuracy: 0.9908 - val_loss: 0.0286 - val_accuracy: 0.9878\n",
      "Epoch 17/20\n",
      "625/625 [==============================] - 2s 4ms/step - loss: 0.0243 - accuracy: 0.9910 - val_loss: 0.0319 - val_accuracy: 0.9858\n",
      "Epoch 18/20\n",
      "625/625 [==============================] - 2s 4ms/step - loss: 0.0233 - accuracy: 0.9914 - val_loss: 0.0175 - val_accuracy: 0.9932\n",
      "Epoch 19/20\n",
      "625/625 [==============================] - 2s 4ms/step - loss: 0.0207 - accuracy: 0.9933 - val_loss: 0.0182 - val_accuracy: 0.9928\n",
      "Epoch 20/20\n",
      "625/625 [==============================] - 4s 6ms/step - loss: 0.0224 - accuracy: 0.9916 - val_loss: 0.0172 - val_accuracy: 0.9926\n",
      "157/157 [==============================] - 1s 4ms/step - loss: 0.0172 - accuracy: 0.9926\n",
      "Akurasi model: 0.9925910830497742\n"
     ]
    }
   ],
   "source": [
    "model = tf.keras.Sequential([\n",
    "    tf.keras.layers.Dense(64, input_dim=X_train.shape[1], activation='relu'),\n",
    "    tf.keras.layers.Dense(32,activation='relu'),\n",
    "    tf.keras.layers.Dense(5,activation='softmax')\n",
    "])\n",
    "model.compile(loss='sparse_categorical_crossentropy', optimizer='adam', metrics=['accuracy'])\n",
    "# Melatih model\n",
    "model.fit(X_train, Y_train, epochs=20, batch_size=32, validation_data=(X_test, Y_test))\n",
    "\n",
    "_, accuracy = model.evaluate(X_test, Y_test)\n",
    "print(f'Akurasi model: {accuracy}')"
   ]
  },
  {
   "cell_type": "code",
   "execution_count": 88,
   "id": "dfc37a35",
   "metadata": {},
   "outputs": [
    {
     "name": "stdout",
     "output_type": "stream",
     "text": [
      "1/1 [==============================] - 0s 108ms/step\n",
      "Prediksi kategori BMR: [[1.0000000e+00 2.5155147e-08 1.0353001e-14 1.5129624e-16 2.5459810e-13]]\n"
     ]
    }
   ],
   "source": [
    "# Data baru untuk prediksi (ganti nilainya sesuai dengan data yang ingin diprediksi)\n",
    "new_data = {\n",
    "    'Sex': 0,\n",
    "    'Age': 30,\n",
    "    'Height(CM)': 170,\n",
    "    'Weight(KG)': 60,\n",
    "    # Jika kolom 'BMR' tidak ada, ganti nilainya sesuai dengan data aktual\n",
    "}\n",
    "\n",
    "# Mengubah data input menjadi bentuk yang dapat diproses oleh model\n",
    "new_data_df = pd.DataFrame([new_data])  # Ubah data menjadi DataFrame jika belum\n",
    "new_data_processed = scaler.transform(new_data_df)  # Normalisasi fitur seperti yang dilakukan pada data latih\n",
    "\n",
    "# Melakukan prediksi dengan model yang sudah dilatih\n",
    "prediction = model.predict(new_data_processed)\n",
    "print(f'Prediksi kategori BMR: {prediction}')\n"
   ]
  },
  {
   "cell_type": "code",
   "execution_count": 89,
   "id": "64e81a2c",
   "metadata": {},
   "outputs": [
    {
     "name": "stdout",
     "output_type": "stream",
     "text": [
      "Kategori BMR diprediksi: 0\n"
     ]
    }
   ],
   "source": [
    "predicted_category = np.argmax(prediction)\n",
    "print(f'Kategori BMR diprediksi: {predicted_category}')"
   ]
  },
  {
   "cell_type": "code",
   "execution_count": 90,
   "id": "500fe700",
   "metadata": {},
   "outputs": [
    {
     "data": {
      "text/plain": [
       "array([1, 0, 3, 2, 4])"
      ]
     },
     "execution_count": 90,
     "metadata": {},
     "output_type": "execute_result"
    }
   ],
   "source": [
    "data.BMR_Category_Encoded.unique()"
   ]
  },
  {
   "cell_type": "code",
   "execution_count": null,
   "id": "e2a4a18d",
   "metadata": {},
   "outputs": [],
   "source": [
    "data.to_csv('bmi_clean',index=False)"
   ]
  },
  {
   "cell_type": "code",
   "execution_count": null,
   "id": "5bcd7561",
   "metadata": {},
   "outputs": [],
   "source": []
  }
 ],
 "metadata": {
  "kernelspec": {
   "display_name": "Python 3 (ipykernel)",
   "language": "python",
   "name": "python3"
  },
  "language_info": {
   "codemirror_mode": {
    "name": "ipython",
    "version": 3
   },
   "file_extension": ".py",
   "mimetype": "text/x-python",
   "name": "python",
   "nbconvert_exporter": "python",
   "pygments_lexer": "ipython3",
   "version": "3.11.3"
  }
 },
 "nbformat": 4,
 "nbformat_minor": 5
}
